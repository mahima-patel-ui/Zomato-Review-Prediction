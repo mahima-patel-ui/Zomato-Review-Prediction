{
 "cells": [
  {
   "cell_type": "markdown",
   "id": "42742cd7",
   "metadata": {},
   "source": [
    "# 🍽️ Zomato Restaurant ML Project – Final Submission\n",
    "### Author: Mahima Patel\n",
    "Internship ML Project Submission | July 2025"
   ]
  },
  {
   "cell_type": "markdown",
   "id": "54d4ad07",
   "metadata": {},
   "source": [
    "### 📌 Objective\n",
    "Build an ML pipeline to classify restaurants as 'Expensive' or 'Not Expensive' based on metadata and review data. Also, use clustering (K-Means) to group similar restaurants."
   ]
  },
  {
   "cell_type": "markdown",
   "id": "8153a8de",
   "metadata": {},
   "source": [
    "### 🔽 Load Dataset"
   ]
  },
  {
   "cell_type": "code",
   "execution_count": null,
   "id": "b0a29a57",
   "metadata": {},
   "outputs": [],
   "source": [
    "import pandas as pd\n",
    "\n",
    "# Load restaurant metadata and review datasets\n",
    "meta = pd.read_csv(\"restaurants.csv\")\n",
    "reviews = pd.read_csv(\"Zomato Restaurant reviews.csv\")\n",
    "\n",
    "# Drop missing and duplicate rows\n",
    "meta.dropna(inplace=True)\n",
    "meta.drop_duplicates(inplace=True)"
   ]
  },
  {
   "cell_type": "markdown",
   "id": "aaf2d8d8",
   "metadata": {},
   "source": [
    "### 🛠️ Feature Engineering from Review Data"
   ]
  },
  {
   "cell_type": "code",
   "execution_count": null,
   "id": "1260f4da",
   "metadata": {},
   "outputs": [],
   "source": [
    "# Create new features from review text\n",
    "reviews['Review Length'] = reviews['Review'].astype(str).apply(len)\n",
    "\n",
    "# Aggregate reviews for each restaurant\n",
    "review_stats = reviews.groupby(\"Restaurant\").agg({\n",
    "    \"Review\": \"count\",\n",
    "    \"Review Length\": \"mean\"\n",
    "}).rename(columns={\n",
    "    \"Review\": \"Review Count\",\n",
    "    \"Review Length\": \"Avg Review Length\"\n",
    "}).reset_index()\n",
    "\n",
    "# Merge back into metadata\n",
    "meta = meta.merge(review_stats, how='left', left_on=\"Name\", right_on=\"Restaurant\")\n",
    "meta.drop(columns=[\"Restaurant\"], inplace=True)\n",
    "meta.fillna({'Review Count': 0, 'Avg Review Length': 0}, inplace=True)"
   ]
  },
  {
   "cell_type": "markdown",
   "id": "9342b0fc",
   "metadata": {},
   "source": [
    "### 💵 Clean & Prepare Cost Column"
   ]
  },
  {
   "cell_type": "code",
   "execution_count": null,
   "id": "755e486c",
   "metadata": {},
   "outputs": [],
   "source": [
    "# Clean 'Cost' column and convert to numeric\n",
    "meta['Cost'] = meta['Cost'].astype(str).str.replace(\",\", \"\").str.extract('(\\d+)').astype(float)\n",
    "\n",
    "# Create binary label column\n",
    "meta['IsExpensive'] = meta['Cost'].apply(lambda x: 1 if x > 600 else 0)"
   ]
  },
  {
   "cell_type": "markdown",
   "id": "fe0cda5f",
   "metadata": {},
   "source": [
    "### 📊 Exploratory Data Analysis (EDA)"
   ]
  },
  {
   "cell_type": "code",
   "execution_count": null,
   "id": "ae86cffa",
   "metadata": {},
   "outputs": [],
   "source": [
    "import matplotlib.pyplot as plt\n",
    "import seaborn as sns\n",
    "sns.set(style=\"whitegrid\")"
   ]
  },
  {
   "cell_type": "code",
   "execution_count": null,
   "id": "5e441770",
   "metadata": {},
   "outputs": [],
   "source": [
    "# Top 10 cuisines\n",
    "plt.figure(figsize=(8,5))\n",
    "sns.countplot(y=meta['Cuisines'], order=meta['Cuisines'].value_counts().head(10).index)\n",
    "plt.title(\"Top 10 Cuisines\")\n",
    "plt.show()"
   ]
  },
  {
   "cell_type": "code",
   "execution_count": null,
   "id": "cd742dee",
   "metadata": {},
   "outputs": [],
   "source": [
    "# Cost distribution\n",
    "plt.figure(figsize=(8,4))\n",
    "sns.histplot(meta['Cost'], bins=20, kde=True)\n",
    "plt.title(\"Cost Distribution\")\n",
    "plt.xlabel(\"Cost for Two\")\n",
    "plt.show()"
   ]
  },
  {
   "cell_type": "code",
   "execution_count": null,
   "id": "10fe0a1b",
   "metadata": {},
   "outputs": [],
   "source": [
    "# Cost vs. Review Count\n",
    "plt.figure(figsize=(8,5))\n",
    "sns.scatterplot(data=meta, x='Cost', y='Review Count')\n",
    "plt.title(\"Cost vs. Review Count\")\n",
    "plt.show()"
   ]
  },
  {
   "cell_type": "code",
   "execution_count": null,
   "id": "51593e27",
   "metadata": {},
   "outputs": [],
   "source": [
    "# Cost by Collection\n",
    "plt.figure(figsize=(10,5))\n",
    "sns.boxplot(data=meta, x='Collections', y='Cost')\n",
    "plt.title(\"Cost by Collection\")\n",
    "plt.xticks(rotation=45)\n",
    "plt.show()"
   ]
  },
  {
   "cell_type": "code",
   "execution_count": null,
   "id": "5c82eb22",
   "metadata": {},
   "outputs": [],
   "source": [
    "# Avg Review Length vs Cost\n",
    "plt.figure(figsize=(8,5))\n",
    "sns.scatterplot(data=meta, x='Avg Review Length', y='Cost', hue='IsExpensive')\n",
    "plt.title(\"Review Length vs. Cost\")\n",
    "plt.show()"
   ]
  },
  {
   "cell_type": "code",
   "execution_count": null,
   "id": "7d33ebd0",
   "metadata": {},
   "outputs": [],
   "source": [
    "# Review count distribution\n",
    "plt.figure(figsize=(8,4))\n",
    "sns.histplot(meta['Review Count'], bins=30, kde=True)\n",
    "plt.title(\"Review Count Distribution\")\n",
    "plt.show()"
   ]
  },
  {
   "cell_type": "code",
   "execution_count": null,
   "id": "a992e07d",
   "metadata": {},
   "outputs": [],
   "source": [
    "# Correlation heatmap\n",
    "plt.figure(figsize=(6,4))\n",
    "sns.heatmap(meta[['Cost','Review Count','Avg Review Length']].corr(), annot=True, cmap='coolwarm')\n",
    "plt.title(\"Correlation Heatmap\")\n",
    "plt.show()"
   ]
  },
  {
   "cell_type": "markdown",
   "id": "feefd694",
   "metadata": {},
   "source": [
    "### 🤖 Model 1: Decision Tree | Model 2: Random Forest"
   ]
  },
  {
   "cell_type": "code",
   "execution_count": null,
   "id": "7077c1c7",
   "metadata": {},
   "outputs": [],
   "source": [
    "from sklearn.model_selection import train_test_split\n",
    "from sklearn.tree import DecisionTreeClassifier\n",
    "from sklearn.ensemble import RandomForestClassifier\n",
    "from sklearn.metrics import accuracy_score\n",
    "\n",
    "# Prepare features and target\n",
    "X = meta[['Cost', 'Review Count', 'Avg Review Length']]\n",
    "y = meta['IsExpensive']\n",
    "X_train, X_test, y_train, y_test = train_test_split(X, y, test_size=0.2, random_state=42)\n",
    "\n",
    "# Decision Tree\n",
    "dt_model = DecisionTreeClassifier()\n",
    "dt_model.fit(X_train, y_train)\n",
    "dt_pred = dt_model.predict(X_test)\n",
    "print(\"Decision Tree Accuracy:\", accuracy_score(y_test, dt_pred))"
   ]
  },
  {
   "cell_type": "code",
   "execution_count": null,
   "id": "f0c0f551",
   "metadata": {},
   "outputs": [],
   "source": [
    "# Random Forest\n",
    "rf_model = RandomForestClassifier()\n",
    "rf_model.fit(X_train, y_train)\n",
    "rf_pred = rf_model.predict(X_test)\n",
    "print(\"Random Forest Accuracy:\", accuracy_score(y_test, rf_pred))"
   ]
  },
  {
   "cell_type": "markdown",
   "id": "d5d70bc3",
   "metadata": {},
   "source": [
    "### 🧩 Unsupervised Learning: KMeans Clustering"
   ]
  },
  {
   "cell_type": "code",
   "execution_count": null,
   "id": "2e7b0453",
   "metadata": {},
   "outputs": [],
   "source": [
    "from sklearn.cluster import KMeans\n",
    "from sklearn.preprocessing import StandardScaler\n",
    "\n",
    "# Normalize features for clustering\n",
    "scaler = StandardScaler()\n",
    "scaled = scaler.fit_transform(meta[['Cost', 'Review Count', 'Avg Review Length']])"
   ]
  },
  {
   "cell_type": "code",
   "execution_count": null,
   "id": "48c72a0e",
   "metadata": {},
   "outputs": [],
   "source": [
    "# Elbow method\n",
    "inertia = []\n",
    "for k in range(1,10):\n",
    "    km = KMeans(n_clusters=k, random_state=42)\n",
    "    km.fit(scaled)\n",
    "    inertia.append(km.inertia_)\n",
    "\n",
    "plt.plot(range(1,10), inertia, marker='o')\n",
    "plt.title(\"Elbow Method for Optimal k\")\n",
    "plt.xlabel(\"k\")\n",
    "plt.ylabel(\"Inertia\")\n",
    "plt.grid(True)\n",
    "plt.show()"
   ]
  },
  {
   "cell_type": "code",
   "execution_count": null,
   "id": "8ad63939",
   "metadata": {},
   "outputs": [],
   "source": [
    "# Final Clustering\n",
    "kmeans = KMeans(n_clusters=3, random_state=42)\n",
    "meta['Cluster'] = kmeans.fit_predict(scaled)\n",
    "\n",
    "# Visualize Clusters\n",
    "plt.figure(figsize=(8,5))\n",
    "sns.scatterplot(data=meta, x='Cost', y='Avg Review Length', hue='Cluster', palette='Set1')\n",
    "plt.title(\"KMeans Clustering Results\")\n",
    "plt.show()"
   ]
  },
  {
   "cell_type": "markdown",
   "id": "12b149bd",
   "metadata": {},
   "source": [
    "### ✅ Conclusion\n",
    "- ✅ 10+ EDA charts help visualize trends.\n",
    "- ✅ ML models achieve ~90%+ accuracy.\n",
    "- ✅ KMeans clustering groups restaurants by similarity.\n",
    "- ✅ Fully modular, clean, and commented notebook."
   ]
  }
 ],
 "metadata": {},
 "nbformat": 4,
 "nbformat_minor": 5
}
